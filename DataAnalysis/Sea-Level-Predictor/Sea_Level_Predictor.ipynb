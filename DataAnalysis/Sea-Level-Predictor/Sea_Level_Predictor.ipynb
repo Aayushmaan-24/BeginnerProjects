{
  "nbformat": 4,
  "nbformat_minor": 0,
  "metadata": {
    "colab": {
      "provenance": []
    },
    "kernelspec": {
      "name": "python3",
      "display_name": "Python 3"
    },
    "language_info": {
      "name": "python"
    }
  },
  "cells": [
    {
      "cell_type": "markdown",
      "source": [
        "# Page View Time Series Visualizer"
      ],
      "metadata": {
        "id": "mmmudG1jlQhc"
      }
    },
    {
      "cell_type": "markdown",
      "source": [
        "## Import"
      ],
      "metadata": {
        "id": "JbYqMUbwYM13"
      }
    },
    {
      "cell_type": "code",
      "source": [
        "import pandas as pd\n",
        "from matplotlib import pyplot as plt\n",
        "from scipy.stats import linregress"
      ],
      "metadata": {
        "id": "TzPI-XuRYWtX"
      },
      "execution_count": 1,
      "outputs": []
    },
    {
      "cell_type": "markdown",
      "source": [
        "##Create"
      ],
      "metadata": {
        "id": "Qb5boDx1YwiS"
      }
    },
    {
      "cell_type": "code",
      "source": [
        "def draw_plot():\n",
        "    # Read data from file\n",
        "    df = pd.read_csv('epa-sea-level.csv')\n",
        "\n",
        "    # Create scatter plot\n",
        "    plt.figure(figsize=(10, 6))\n",
        "    plt.scatter(df['Year'], df['CSIRO Adjusted Sea Level'])\n",
        "\n",
        "    # Create first line of best fit\n",
        "\n",
        "    # First regression using all data\n",
        "    slope_all, intercept_all, _, _, _ = linregress(df['Year'], df['CSIRO Adjusted Sea Level'])\n",
        "\n",
        "    # Predict sea level rise up to 2050\n",
        "    years_extended = pd.Series(range(1880, 2051))\n",
        "    sea_levels_all = slope_all * years_extended + intercept_all\n",
        "\n",
        "    # Plot first line of best fit\n",
        "    plt.plot(years_extended, sea_levels_all, 'r', label='Best fit line (1880-2050)')\n",
        "\n",
        "    # Create second line of best fit\n",
        "\n",
        "    # Filter after 2000\n",
        "    df_filtered = df[df['Year'] >= 2000]\n",
        "\n",
        "    # Second regression using filtered data\n",
        "    slope_filtered, intercept_filtered, _, _, _ = linregress(df_filtered['Year'], df_filtered['CSIRO Adjusted Sea Level'])\n",
        "\n",
        "    # Predict sea level rise from 2000 to 2050\n",
        "    years_extended_filtered = pd.Series(range(2000, 2051))\n",
        "    sea_levels_filtered = slope_filtered * years\n",
        "\n",
        "    # Plot second line of best fit\n",
        "    plt.plot(years_extended_filtered, sea_levels_filtered, 'g', label='Best fit line (2000-2050)'\n",
        "\n",
        "\n",
        "    # Title and labels\n",
        "    plt.title('Rise in Sea Level')\n",
        "    plt.xlabel('Year')\n",
        "    plt.ylabel('Sea Level (inches)')\n",
        "\n",
        "\n",
        "    # Save plot and return data for testing (DO NOT MODIFY)\n",
        "    plt.legend()\n",
        "    plt.grid(True)\n",
        "    plt.savefig('sea_level_plot.png')\n",
        "    return plt.gca()"
      ],
      "metadata": {
        "id": "oxR1ddPKY0p-"
      },
      "execution_count": null,
      "outputs": []
    }
  ]
}