{
  "nbformat": 4,
  "nbformat_minor": 0,
  "metadata": {
    "colab": {
      "provenance": []
    },
    "kernelspec": {
      "name": "python3",
      "display_name": "Python 3"
    },
    "language_info": {
      "name": "python"
    }
  },
  "cells": [
    {
      "cell_type": "markdown",
      "source": [
        "# Mean-Variance-Standard Deviation Calculator"
      ],
      "metadata": {
        "id": "rLF7RoMXlRgb"
      }
    },
    {
      "cell_type": "code",
      "execution_count": null,
      "metadata": {
        "colab": {
          "base_uri": "https://localhost:8080/"
        },
        "id": "-4cMnDqqczuC",
        "outputId": "dbe1fd4e-38d5-4e2b-b48c-20e91767dda7"
      },
      "outputs": [
        {
          "output_type": "stream",
          "name": "stdout",
          "text": [
            "Enter element: 1\n",
            "Enter element: 2\n",
            "Enter element: 3\n",
            "Enter element: 4\n",
            "Enter element: 5\n",
            "Enter element: 6\n",
            "Enter element: 7\n",
            "Enter element: 8\n",
            "Enter element: 9\n",
            "mean: [[4.0, 5.0, 6.0], [2.0, 5.0, 8.0], 5.0]\n",
            "variance: [[6.0, 6.0, 6.0], [0.6666666666666666, 0.6666666666666666, 0.6666666666666666], 6.666666666666667]\n",
            "standard deviation: [[2.449489742783178, 2.449489742783178, 2.449489742783178], [0.816496580927726, 0.816496580927726, 0.816496580927726], 2.581988897471611]\n",
            "max: [[7, 8, 9], [3, 6, 9], 9]\n",
            "min: [[1, 2, 3], [1, 4, 7], 1]\n",
            "sum: [[12, 15, 18], [6, 15, 24], 45]\n"
          ]
        }
      ],
      "source": [
        "import numpy as np\n",
        "\n",
        "def calculate(list):\n",
        "    if len(list) != 9:\n",
        "        print(\"List must contain nine numbers.\")\n",
        "        return ValueError\n",
        "    else:\n",
        "        l2 = np.array(list).reshape(3,3)\n",
        "\n",
        "        # Axis-wise calculations\n",
        "        mean_list = [np.mean(l2, axis=0).tolist(), np.mean(l2, axis=1).tolist(), np.mean(list)]\n",
        "        var_list = [np.var(l2, axis=0).tolist(), np.var(l2, axis=1).tolist(), np.var(l2).item()]\n",
        "\n",
        "        # Standard deviation, max, min, and sum\n",
        "        std_list = [np.std(l2, axis=0).tolist(), np.std(l2, axis=1).tolist(), np.std(l2).item()]\n",
        "        max_list = [np.max(l2, axis=0).tolist(), np.max(l2, axis=1).tolist(), np.max(l2).item()]\n",
        "        min_list = [np.min(l2, axis=0).tolist(), np.min(l2, axis=1).tolist(), np.min(l2).item()]\n",
        "        sum_list = [np.sum(l2, axis=0).tolist(), np.sum(l2, axis=1).tolist(), np.sum(l2).item()]\n",
        "\n",
        "        # Store the results\n",
        "        calculations = {'mean': mean_list, 'variance': var_list, 'standard deviation': std_list,\n",
        "                        'max': max_list, 'min': min_list, 'sum': sum_list}\n",
        "        for key,value in calculations.items():\n",
        "            print(f\"{key}: {value}\")\n",
        "\n",
        "\n",
        "# Example list\n",
        "l = []\n",
        "for i in range(9):\n",
        "  num = int(input(\"Enter element: \"))\n",
        "  l.append(num)\n",
        "calculate(l)\n"
      ]
    },
    {
      "cell_type": "markdown",
      "source": [
        "# Demographic Data Analyzer"
      ],
      "metadata": {
        "id": "mmmudG1jlQhc"
      }
    }
  ]
}