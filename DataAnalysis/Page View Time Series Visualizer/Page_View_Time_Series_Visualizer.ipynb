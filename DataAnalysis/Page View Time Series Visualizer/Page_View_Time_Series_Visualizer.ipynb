{
  "nbformat": 4,
  "nbformat_minor": 0,
  "metadata": {
    "colab": {
      "provenance": []
    },
    "kernelspec": {
      "name": "python3",
      "display_name": "Python 3"
    },
    "language_info": {
      "name": "python"
    }
  },
  "cells": [
    {
      "cell_type": "markdown",
      "source": [
        "# Page View Time Series Visualizer"
      ],
      "metadata": {
        "id": "mmmudG1jlQhc"
      }
    },
    {
      "cell_type": "code",
      "source": [
        "import matplotlib.pyplot as plt\n",
        "import pandas as pd\n",
        "import seaborn as sns\n",
        "from pandas.plotting import register_matplotlib_converters\n",
        "register_matplotlib_converters()\n",
        "\n",
        "# Import data (Make sure to parse dates. Consider setting index column to 'date'.)\n",
        "df = pd.read_csv(\"fcc-forum-pageviews.csv\", index_col=\"date\", parse_dates=True)\n",
        "\n",
        "# Clean data\n",
        "lower_limit = df['value'].quantile(0.025)\n",
        "upper_limit = df['value'].quantile(0.975)\n",
        "df = df[df['value'] >= lower_limit & df['value'] <= upper_limit]\n",
        "\n",
        "\n",
        "def draw_line_plot():\n",
        "    # Draw line plot\n",
        "    fig , ax = plt.subplot(figsize = (10,6))\n",
        "    ax.plot(df.index, df['value'])\n",
        "    ax.set_title(\"Daily freeCodeCamp Forum Page Views 5/2016-12/2019\")\n",
        "    ax.set_xlabel('Date')\n",
        "    ax.set_ylabel('Page Views')\n",
        "\n",
        "\n",
        "    # Save image and return fig (don't change this part)\n",
        "    fig.savefig('line_plot.png')\n",
        "    return fig\n",
        "\n",
        "def draw_bar_plot():\n",
        "    # Copy and modify data for monthly bar plot\n",
        "    df_bar = df.copy()\n",
        "    df['year'] = df_bar.index.year\n",
        "    df['month'] = df_bar.index.month_name()\n",
        "    df_bar = df_bar.groupby(['year','month'])['value'].mean().unstack()\n",
        "\n",
        "    # Draw bar plot\n",
        "    fig = plt.plot(kind = 'bar', figsize = (10,6), legend = True).figure\n",
        "    plt.xlabel('Years')\n",
        "    plt.ylabel('Page views(Mean)')\n",
        "    plt.legend(title = 'Months')\n",
        "\n",
        "\n",
        "\n",
        "    # Save image and return fig (don't change this part)\n",
        "    fig.savefig('bar_plot.png')\n",
        "    return fig\n",
        "\n",
        "def draw_box_plot():\n",
        "    # Prepare data for box plots (this part is done!)\n",
        "    df_box = df.copy()\n",
        "    df_box.reset_index(inplace=True)\n",
        "    df_box['year'] = [d.year for d in df_box.date]\n",
        "    df_box['month'] = [d.strftime('%b') for d in df_box.date]\n",
        "\n",
        "    # Draw box plots (using Seaborn)\n",
        "    fig, axes = plt.subplots(1, 2, figsize=(16, 6))\n",
        "    sns.boxplot(ax=axes[0], x=\"year\", y=\"value\", data=df_box)\n",
        "    sns.boxplot(ax=axes[1], x=\"month\", y=\"value\", data=df_box)\n",
        "\n",
        "    # Customize plots\n",
        "    axes[0].set_title(\"Year-wise Box Plot (Trend)\")\n",
        "    axes[0].set_xlabel(\"Year\")\n",
        "    axes[0].set_ylabel(\"Page Views\")\n",
        "\n",
        "    axes[1].set_title(\"Month-wise Box Plot (Seasonality)\")\n",
        "    axes[1].set_xlabel(\"Month\")\n",
        "    axes[1].set_ylabel(\"Page Views\")\n",
        "    axes[1].set_xticklabels(axes[1].get_xticklabels(), rotation=45)\n",
        "\n",
        "    # Save image and return fig (don't change this part)\n",
        "    fig.savefig('box_plot.png')\n",
        "    return fig\n"
      ],
      "metadata": {
        "id": "qkSMxaQT5y0w"
      },
      "execution_count": 1,
      "outputs": []
    }
  ]
}